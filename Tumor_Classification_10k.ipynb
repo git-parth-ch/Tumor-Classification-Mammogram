{
  "nbformat": 4,
  "nbformat_minor": 0,
  "metadata": {
    "colab": {
      "provenance": [],
      "authorship_tag": "ABX9TyPvTQJ67X47pzrhJKLrRESF",
      "include_colab_link": true
    },
    "kernelspec": {
      "name": "python3",
      "display_name": "Python 3"
    },
    "language_info": {
      "name": "python"
    }
  },
  "cells": [
    {
      "cell_type": "markdown",
      "metadata": {
        "id": "view-in-github",
        "colab_type": "text"
      },
      "source": [
        "<a href=\"https://colab.research.google.com/github/git-parth-ch/Tumor-Classification-Mammogram/blob/main/Tumor_Classification_10k.ipynb\" target=\"_parent\"><img src=\"https://colab.research.google.com/assets/colab-badge.svg\" alt=\"Open In Colab\"/></a>"
      ]
    },
    {
      "cell_type": "code",
      "source": [
        "from google.colab import files\n",
        "import pandas as pd\n",
        "import numpy as np\n",
        "import matplotlib.pyplot as plt\n",
        "import seaborn as sns\n",
        "from sklearn.model_selection import train_test_split, StratifiedKFold, GridSearchCV\n",
        "from sklearn.preprocessing import StandardScaler\n",
        "from sklearn.svm import SVC\n",
        "from sklearn.metrics import accuracy_score, classification_report, confusion_matrix"
      ],
      "metadata": {
        "id": "-Js4LQaK6OWk"
      },
      "execution_count": null,
      "outputs": []
    },
    {
      "cell_type": "code",
      "source": [
        "upload = files.upload()  # Upload\n",
        "mass_df = pd.read_csv(\"mass_case_description_train_set_augmented_10k.csv\")"
      ],
      "metadata": {
        "colab": {
          "base_uri": "https://localhost:8080/",
          "height": 72
        },
        "id": "CINadNJh6QYD",
        "outputId": "193e4101-baf0-416f-fa63-e54fb5a339e4"
      },
      "execution_count": null,
      "outputs": [
        {
          "output_type": "display_data",
          "data": {
            "text/plain": [
              "<IPython.core.display.HTML object>"
            ],
            "text/html": [
              "\n",
              "     <input type=\"file\" id=\"files-f48f2e00-e0f4-408b-af90-a1d7224e0aee\" name=\"files[]\" multiple disabled\n",
              "        style=\"border:none\" />\n",
              "     <output id=\"result-f48f2e00-e0f4-408b-af90-a1d7224e0aee\">\n",
              "      Upload widget is only available when the cell has been executed in the\n",
              "      current browser session. Please rerun this cell to enable.\n",
              "      </output>\n",
              "      <script>// Copyright 2017 Google LLC\n",
              "//\n",
              "// Licensed under the Apache License, Version 2.0 (the \"License\");\n",
              "// you may not use this file except in compliance with the License.\n",
              "// You may obtain a copy of the License at\n",
              "//\n",
              "//      http://www.apache.org/licenses/LICENSE-2.0\n",
              "//\n",
              "// Unless required by applicable law or agreed to in writing, software\n",
              "// distributed under the License is distributed on an \"AS IS\" BASIS,\n",
              "// WITHOUT WARRANTIES OR CONDITIONS OF ANY KIND, either express or implied.\n",
              "// See the License for the specific language governing permissions and\n",
              "// limitations under the License.\n",
              "\n",
              "/**\n",
              " * @fileoverview Helpers for google.colab Python module.\n",
              " */\n",
              "(function(scope) {\n",
              "function span(text, styleAttributes = {}) {\n",
              "  const element = document.createElement('span');\n",
              "  element.textContent = text;\n",
              "  for (const key of Object.keys(styleAttributes)) {\n",
              "    element.style[key] = styleAttributes[key];\n",
              "  }\n",
              "  return element;\n",
              "}\n",
              "\n",
              "// Max number of bytes which will be uploaded at a time.\n",
              "const MAX_PAYLOAD_SIZE = 100 * 1024;\n",
              "\n",
              "function _uploadFiles(inputId, outputId) {\n",
              "  const steps = uploadFilesStep(inputId, outputId);\n",
              "  const outputElement = document.getElementById(outputId);\n",
              "  // Cache steps on the outputElement to make it available for the next call\n",
              "  // to uploadFilesContinue from Python.\n",
              "  outputElement.steps = steps;\n",
              "\n",
              "  return _uploadFilesContinue(outputId);\n",
              "}\n",
              "\n",
              "// This is roughly an async generator (not supported in the browser yet),\n",
              "// where there are multiple asynchronous steps and the Python side is going\n",
              "// to poll for completion of each step.\n",
              "// This uses a Promise to block the python side on completion of each step,\n",
              "// then passes the result of the previous step as the input to the next step.\n",
              "function _uploadFilesContinue(outputId) {\n",
              "  const outputElement = document.getElementById(outputId);\n",
              "  const steps = outputElement.steps;\n",
              "\n",
              "  const next = steps.next(outputElement.lastPromiseValue);\n",
              "  return Promise.resolve(next.value.promise).then((value) => {\n",
              "    // Cache the last promise value to make it available to the next\n",
              "    // step of the generator.\n",
              "    outputElement.lastPromiseValue = value;\n",
              "    return next.value.response;\n",
              "  });\n",
              "}\n",
              "\n",
              "/**\n",
              " * Generator function which is called between each async step of the upload\n",
              " * process.\n",
              " * @param {string} inputId Element ID of the input file picker element.\n",
              " * @param {string} outputId Element ID of the output display.\n",
              " * @return {!Iterable<!Object>} Iterable of next steps.\n",
              " */\n",
              "function* uploadFilesStep(inputId, outputId) {\n",
              "  const inputElement = document.getElementById(inputId);\n",
              "  inputElement.disabled = false;\n",
              "\n",
              "  const outputElement = document.getElementById(outputId);\n",
              "  outputElement.innerHTML = '';\n",
              "\n",
              "  const pickedPromise = new Promise((resolve) => {\n",
              "    inputElement.addEventListener('change', (e) => {\n",
              "      resolve(e.target.files);\n",
              "    });\n",
              "  });\n",
              "\n",
              "  const cancel = document.createElement('button');\n",
              "  inputElement.parentElement.appendChild(cancel);\n",
              "  cancel.textContent = 'Cancel upload';\n",
              "  const cancelPromise = new Promise((resolve) => {\n",
              "    cancel.onclick = () => {\n",
              "      resolve(null);\n",
              "    };\n",
              "  });\n",
              "\n",
              "  // Wait for the user to pick the files.\n",
              "  const files = yield {\n",
              "    promise: Promise.race([pickedPromise, cancelPromise]),\n",
              "    response: {\n",
              "      action: 'starting',\n",
              "    }\n",
              "  };\n",
              "\n",
              "  cancel.remove();\n",
              "\n",
              "  // Disable the input element since further picks are not allowed.\n",
              "  inputElement.disabled = true;\n",
              "\n",
              "  if (!files) {\n",
              "    return {\n",
              "      response: {\n",
              "        action: 'complete',\n",
              "      }\n",
              "    };\n",
              "  }\n",
              "\n",
              "  for (const file of files) {\n",
              "    const li = document.createElement('li');\n",
              "    li.append(span(file.name, {fontWeight: 'bold'}));\n",
              "    li.append(span(\n",
              "        `(${file.type || 'n/a'}) - ${file.size} bytes, ` +\n",
              "        `last modified: ${\n",
              "            file.lastModifiedDate ? file.lastModifiedDate.toLocaleDateString() :\n",
              "                                    'n/a'} - `));\n",
              "    const percent = span('0% done');\n",
              "    li.appendChild(percent);\n",
              "\n",
              "    outputElement.appendChild(li);\n",
              "\n",
              "    const fileDataPromise = new Promise((resolve) => {\n",
              "      const reader = new FileReader();\n",
              "      reader.onload = (e) => {\n",
              "        resolve(e.target.result);\n",
              "      };\n",
              "      reader.readAsArrayBuffer(file);\n",
              "    });\n",
              "    // Wait for the data to be ready.\n",
              "    let fileData = yield {\n",
              "      promise: fileDataPromise,\n",
              "      response: {\n",
              "        action: 'continue',\n",
              "      }\n",
              "    };\n",
              "\n",
              "    // Use a chunked sending to avoid message size limits. See b/62115660.\n",
              "    let position = 0;\n",
              "    do {\n",
              "      const length = Math.min(fileData.byteLength - position, MAX_PAYLOAD_SIZE);\n",
              "      const chunk = new Uint8Array(fileData, position, length);\n",
              "      position += length;\n",
              "\n",
              "      const base64 = btoa(String.fromCharCode.apply(null, chunk));\n",
              "      yield {\n",
              "        response: {\n",
              "          action: 'append',\n",
              "          file: file.name,\n",
              "          data: base64,\n",
              "        },\n",
              "      };\n",
              "\n",
              "      let percentDone = fileData.byteLength === 0 ?\n",
              "          100 :\n",
              "          Math.round((position / fileData.byteLength) * 100);\n",
              "      percent.textContent = `${percentDone}% done`;\n",
              "\n",
              "    } while (position < fileData.byteLength);\n",
              "  }\n",
              "\n",
              "  // All done.\n",
              "  yield {\n",
              "    response: {\n",
              "      action: 'complete',\n",
              "    }\n",
              "  };\n",
              "}\n",
              "\n",
              "scope.google = scope.google || {};\n",
              "scope.google.colab = scope.google.colab || {};\n",
              "scope.google.colab._files = {\n",
              "  _uploadFiles,\n",
              "  _uploadFilesContinue,\n",
              "};\n",
              "})(self);\n",
              "</script> "
            ]
          },
          "metadata": {}
        },
        {
          "output_type": "stream",
          "name": "stdout",
          "text": [
            "Saving mass_case_description_train_set_augmented_10k.csv to mass_case_description_train_set_augmented_10k (3).csv\n"
          ]
        }
      ]
    },
    {
      "cell_type": "code",
      "source": [
        "print(\"\\n--- First 5 Rows of Data ---\")\n",
        "print(mass_df.head())\n",
        "\n",
        "\n",
        "print(\"\\n--- Info Before Cleaning ---\")\n",
        "mass_df.info()\n",
        "\n",
        "print(\"\\n--- Null Value Count Before Cleaning ---\")\n",
        "print(mass_df.isnull().sum())"
      ],
      "metadata": {
        "colab": {
          "base_uri": "https://localhost:8080/"
        },
        "id": "39-PHqdI6TVz",
        "outputId": "d99a38ad-0f78-4f30-b8ed-1540730cadf7"
      },
      "execution_count": null,
      "outputs": [
        {
          "output_type": "stream",
          "name": "stdout",
          "text": [
            "\n",
            "--- First 5 Rows of Data ---\n",
            "  patient_id  breast_density left or right breast image view  abnormality id  \\\n",
            "0    P_00001             3.0                 LEFT         CC             1.0   \n",
            "1    P_00001             3.0                 LEFT        MLO             1.0   \n",
            "2    P_00004             3.0                 LEFT         CC             1.0   \n",
            "3    P_00004             3.0                 LEFT        MLO             1.0   \n",
            "4    P_00004             3.0                RIGHT        MLO             1.0   \n",
            "\n",
            "  abnormality type                          mass shape   mass margins  \\\n",
            "0             mass  IRREGULAR-ARCHITECTURAL_DISTORTION     SPICULATED   \n",
            "1             mass  IRREGULAR-ARCHITECTURAL_DISTORTION     SPICULATED   \n",
            "2             mass            ARCHITECTURAL_DISTORTION    ILL_DEFINED   \n",
            "3             mass            ARCHITECTURAL_DISTORTION    ILL_DEFINED   \n",
            "4             mass                                OVAL  CIRCUMSCRIBED   \n",
            "\n",
            "   assessment  pathology  subtlety  \\\n",
            "0         4.0  MALIGNANT       4.0   \n",
            "1         4.0  MALIGNANT       4.0   \n",
            "2         4.0     BENIGN       3.0   \n",
            "3         4.0     BENIGN       3.0   \n",
            "4         4.0     BENIGN       5.0   \n",
            "\n",
            "                                     image file path  \\\n",
            "0  Mass-Training_P_00001_LEFT_CC/1.3.6.1.4.1.9590...   \n",
            "1  Mass-Training_P_00001_LEFT_MLO/1.3.6.1.4.1.959...   \n",
            "2  Mass-Training_P_00004_LEFT_CC/1.3.6.1.4.1.9590...   \n",
            "3  Mass-Training_P_00004_LEFT_MLO/1.3.6.1.4.1.959...   \n",
            "4  Mass-Training_P_00004_RIGHT_MLO/1.3.6.1.4.1.95...   \n",
            "\n",
            "                             cropped image file path  \\\n",
            "0  Mass-Training_P_00001_LEFT_CC_1/1.3.6.1.4.1.95...   \n",
            "1  Mass-Training_P_00001_LEFT_MLO_1/1.3.6.1.4.1.9...   \n",
            "2  Mass-Training_P_00004_LEFT_CC_1/1.3.6.1.4.1.95...   \n",
            "3  Mass-Training_P_00004_LEFT_MLO_1/1.3.6.1.4.1.9...   \n",
            "4  Mass-Training_P_00004_RIGHT_MLO_1/1.3.6.1.4.1....   \n",
            "\n",
            "                                  ROI mask file path  \n",
            "0  Mass-Training_P_00001_LEFT_CC_1/1.3.6.1.4.1.95...  \n",
            "1  Mass-Training_P_00001_LEFT_MLO_1/1.3.6.1.4.1.9...  \n",
            "2  Mass-Training_P_00004_LEFT_CC_1/1.3.6.1.4.1.95...  \n",
            "3  Mass-Training_P_00004_LEFT_MLO_1/1.3.6.1.4.1.9...  \n",
            "4  Mass-Training_P_00004_RIGHT_MLO_1/1.3.6.1.4.1....  \n",
            "\n",
            "--- Info Before Cleaning ---\n",
            "<class 'pandas.core.frame.DataFrame'>\n",
            "RangeIndex: 12318 entries, 0 to 12317\n",
            "Data columns (total 14 columns):\n",
            " #   Column                   Non-Null Count  Dtype  \n",
            "---  ------                   --------------  -----  \n",
            " 0   patient_id               12318 non-null  object \n",
            " 1   breast_density           12318 non-null  float64\n",
            " 2   left or right breast     12318 non-null  object \n",
            " 3   image view               12318 non-null  object \n",
            " 4   abnormality id           12318 non-null  float64\n",
            " 5   abnormality type         12318 non-null  object \n",
            " 6   mass shape               12285 non-null  object \n",
            " 7   mass margins             11934 non-null  object \n",
            " 8   assessment               12318 non-null  float64\n",
            " 9   pathology                12318 non-null  object \n",
            " 10  subtlety                 12318 non-null  float64\n",
            " 11  image file path          12318 non-null  object \n",
            " 12  cropped image file path  12318 non-null  object \n",
            " 13  ROI mask file path       12318 non-null  object \n",
            "dtypes: float64(4), object(10)\n",
            "memory usage: 1.3+ MB\n",
            "\n",
            "--- Null Value Count Before Cleaning ---\n",
            "patient_id                   0\n",
            "breast_density               0\n",
            "left or right breast         0\n",
            "image view                   0\n",
            "abnormality id               0\n",
            "abnormality type             0\n",
            "mass shape                  33\n",
            "mass margins               384\n",
            "assessment                   0\n",
            "pathology                    0\n",
            "subtlety                     0\n",
            "image file path              0\n",
            "cropped image file path      0\n",
            "ROI mask file path           0\n",
            "dtype: int64\n"
          ]
        }
      ]
    },
    {
      "cell_type": "code",
      "source": [
        "\n",
        "# Drop duplicate rows\n",
        "df = mass_df.drop_duplicates()\n",
        "\n",
        "# Replace 'breast_density' with a more convenient name\n",
        "df.rename(columns={'breast_density': 'breast density'}, inplace=True)\n",
        "\n",
        "# Fill missing categorical columns with \"Unknown\"\n",
        "for col in ['mass shape', 'mass margins']:\n",
        "    df[col].fillna('Unknown', inplace=True)"
      ],
      "metadata": {
        "colab": {
          "base_uri": "https://localhost:8080/"
        },
        "id": "LFiHnWEt6X3L",
        "outputId": "24529e8b-41be-4649-ee4a-a4016f65b452"
      },
      "execution_count": null,
      "outputs": [
        {
          "output_type": "stream",
          "name": "stderr",
          "text": [
            "/tmp/ipython-input-602586547.py:9: FutureWarning: A value is trying to be set on a copy of a DataFrame or Series through chained assignment using an inplace method.\n",
            "The behavior will change in pandas 3.0. This inplace method will never work because the intermediate object on which we are setting values always behaves as a copy.\n",
            "\n",
            "For example, when doing 'df[col].method(value, inplace=True)', try using 'df.method({col: value}, inplace=True)' or df[col] = df[col].method(value) instead, to perform the operation inplace on the original object.\n",
            "\n",
            "\n",
            "  df[col].fillna('Unknown', inplace=True)\n"
          ]
        }
      ]
    },
    {
      "cell_type": "code",
      "source": [
        "# Encode pathology (target variable)\n",
        "df['pathology'] = df['pathology'].replace('BENIGN_WITHOUT_CALLBACK', 'BENIGN')\n",
        "df['pathology'] = df['pathology'].map({'MALIGNANT': 1, 'BENIGN': 0})\n",
        "\n",
        "print(\"\\n--- Cleaned Pathology Values ---\")\n",
        "print(df['pathology'].value_counts())"
      ],
      "metadata": {
        "colab": {
          "base_uri": "https://localhost:8080/"
        },
        "id": "NHZgXz9k6cOL",
        "outputId": "546c6fd6-9fe4-4190-f02d-02d31fac8f17"
      },
      "execution_count": null,
      "outputs": [
        {
          "output_type": "stream",
          "name": "stdout",
          "text": [
            "\n",
            "--- Cleaned Pathology Values ---\n",
            "pathology\n",
            "0    6372\n",
            "1    5946\n",
            "Name: count, dtype: int64\n"
          ]
        }
      ]
    },
    {
      "cell_type": "code",
      "source": [
        "# Drop columns not useful for training\n",
        "columns_to_drop = [\n",
        "    'patient_id',\n",
        "    'abnormality id',\n",
        "    'image file path',\n",
        "    'cropped image file path',\n",
        "    'ROI mask file path'\n",
        "]\n",
        "df_cleaned = df.drop(columns=columns_to_drop)\n",
        "\n",
        "print(\"\\n--- Missing Values After Cleaning ---\")\n",
        "print(df_cleaned.isnull().sum())\n",
        "\n",
        "print(\"\\n--- First 5 Rows of Cleaned Data ---\")\n",
        "print(df_cleaned.head())"
      ],
      "metadata": {
        "colab": {
          "base_uri": "https://localhost:8080/"
        },
        "id": "pd3sAiyW6fBr",
        "outputId": "e4ef3e00-44d7-4bbf-bb6c-e4c981f26c61"
      },
      "execution_count": null,
      "outputs": [
        {
          "output_type": "stream",
          "name": "stdout",
          "text": [
            "\n",
            "--- Missing Values After Cleaning ---\n",
            "breast density          0\n",
            "left or right breast    0\n",
            "image view              0\n",
            "abnormality type        0\n",
            "mass shape              0\n",
            "mass margins            0\n",
            "assessment              0\n",
            "pathology               0\n",
            "subtlety                0\n",
            "dtype: int64\n",
            "\n",
            "--- First 5 Rows of Cleaned Data ---\n",
            "   breast density left or right breast image view abnormality type  \\\n",
            "0             3.0                 LEFT         CC             mass   \n",
            "1             3.0                 LEFT        MLO             mass   \n",
            "2             3.0                 LEFT         CC             mass   \n",
            "3             3.0                 LEFT        MLO             mass   \n",
            "4             3.0                RIGHT        MLO             mass   \n",
            "\n",
            "                           mass shape   mass margins  assessment  pathology  \\\n",
            "0  IRREGULAR-ARCHITECTURAL_DISTORTION     SPICULATED         4.0          1   \n",
            "1  IRREGULAR-ARCHITECTURAL_DISTORTION     SPICULATED         4.0          1   \n",
            "2            ARCHITECTURAL_DISTORTION    ILL_DEFINED         4.0          0   \n",
            "3            ARCHITECTURAL_DISTORTION    ILL_DEFINED         4.0          0   \n",
            "4                                OVAL  CIRCUMSCRIBED         4.0          0   \n",
            "\n",
            "   subtlety  \n",
            "0       4.0  \n",
            "1       4.0  \n",
            "2       3.0  \n",
            "3       3.0  \n",
            "4       5.0  \n"
          ]
        }
      ]
    },
    {
      "cell_type": "code",
      "source": [
        "X = df_cleaned.drop('pathology', axis=1)\n",
        "y = df_cleaned['pathology']\n",
        "\n",
        "# One-hot encoding for categorical features\n",
        "X_encoded = pd.get_dummies(X, drop_first=True)\n",
        "\n",
        "print(\"\\n--- Shape of Encoded Data ---\")\n",
        "print(X_encoded.shape)\n",
        "\n",
        "# Standardize features\n",
        "scaler = StandardScaler()\n",
        "X_scaled = scaler.fit_transform(X_encoded)"
      ],
      "metadata": {
        "colab": {
          "base_uri": "https://localhost:8080/"
        },
        "id": "IU_5uSW66h5j",
        "outputId": "48c47592-213a-428f-9a19-3863e228d8d6"
      },
      "execution_count": null,
      "outputs": [
        {
          "output_type": "stream",
          "name": "stdout",
          "text": [
            "\n",
            "--- Shape of Encoded Data ---\n",
            "(12318, 38)\n"
          ]
        }
      ]
    },
    {
      "cell_type": "code",
      "source": [
        "#  Stratified K-Fold Cross-Validation\n",
        "print(\"\\n--- Starting 5-Fold Cross-Validation ---\")\n",
        "\n",
        "kf = StratifiedKFold(n_splits=5, shuffle=True, random_state=42)\n",
        "fold = 1\n",
        "accuracies = []\n",
        "\n",
        "for train_index, test_index in kf.split(X_scaled, y):\n",
        "    X_train, X_test = X_scaled[train_index], X_scaled[test_index]\n",
        "    y_train, y_test = y.iloc[train_index], y.iloc[test_index]\n",
        "\n",
        "    model = SVC(kernel='rbf', C=1.0, gamma='auto')\n",
        "    model.fit(X_train, y_train)\n",
        "    y_pred = model.predict(X_test)\n",
        "\n",
        "    acc = accuracy_score(y_test, y_pred)\n",
        "    accuracies.append(acc)\n",
        "\n",
        "    cm = confusion_matrix(y_test, y_pred)\n",
        "    tn, fp, fn, tp = cm.ravel()\n",
        "\n",
        "    print(f\"\\n--- Fold {fold}/5 ---\")\n",
        "    print(f\"Fold {fold} Test Accuracy: {acc:.4f}\")\n",
        "    print(f\"TP: {tp}, TN: {tn}, FP: {fp}, FN: {fn}\")\n",
        "\n",
        "    fold += 1\n",
        "\n",
        "print(\"\\n--- Cross-Validation Summary ---\")\n",
        "mean_acc = np.mean(accuracies)\n",
        "std_acc = np.std(accuracies)\n",
        "print(f\"Mean Accuracy: {np.mean(accuracies):.4f}({mean_acc * 100:.2f}%)\")\n",
        "print(f\"Standard Deviation: {np.std(accuracies):.4f}\")"
      ],
      "metadata": {
        "colab": {
          "base_uri": "https://localhost:8080/"
        },
        "id": "LgBpKZL16qwL",
        "outputId": "21a89ea3-1d6c-4012-93ee-6e32b0b3a1a5"
      },
      "execution_count": null,
      "outputs": [
        {
          "output_type": "stream",
          "name": "stdout",
          "text": [
            "\n",
            "--- Starting 5-Fold Cross-Validation ---\n",
            "\n",
            "--- Fold 1/5 ---\n",
            "Fold 1 Test Accuracy: 0.8925\n",
            "TP: 1072, TN: 1127, FP: 147, FN: 118\n",
            "\n",
            "--- Fold 2/5 ---\n",
            "Fold 2 Test Accuracy: 0.8908\n",
            "TP: 1058, TN: 1137, FP: 138, FN: 131\n",
            "\n",
            "--- Fold 3/5 ---\n",
            "Fold 3 Test Accuracy: 0.8937\n",
            "TP: 1066, TN: 1136, FP: 139, FN: 123\n",
            "\n",
            "--- Fold 4/5 ---\n",
            "Fold 4 Test Accuracy: 0.8924\n",
            "TP: 1047, TN: 1151, FP: 123, FN: 142\n",
            "\n",
            "--- Fold 5/5 ---\n",
            "Fold 5 Test Accuracy: 0.9050\n",
            "TP: 1071, TN: 1158, FP: 116, FN: 118\n",
            "\n",
            "--- Cross-Validation Summary ---\n",
            "Mean Accuracy: 0.8949(89.49%)\n",
            "Standard Deviation: 0.0051\n"
          ]
        }
      ]
    },
    {
      "cell_type": "code",
      "source": [
        "# Final Train/Test Split Evaluation\n",
        "\n",
        "X_train, X_test, y_train, y_test = train_test_split(\n",
        "    X_encoded, y, test_size=0.2, random_state=42, stratify=y\n",
        ")\n",
        "\n",
        "scaler = StandardScaler()\n",
        "X_train = scaler.fit_transform(X_train)\n",
        "X_test = scaler.transform(X_test)\n",
        "\n",
        "best_model = SVC(kernel='rbf', C=1.0, gamma='auto')\n",
        "best_model.fit(X_train, y_train)\n",
        "\n",
        "y_pred = best_model.predict(X_test)\n",
        "\n",
        "print(\"\\n--- Final Evaluation on Hold-Out Test Set ---\")\n",
        "print(\"Accuracy:\", accuracy_score(y_test, y_pred))\n",
        "print(\"\\nClassification Report:\\n\", classification_report(y_test, y_pred, target_names=['BENIGN', 'MALIGNANT']))"
      ],
      "metadata": {
        "colab": {
          "base_uri": "https://localhost:8080/"
        },
        "id": "CLswIJO_6wyK",
        "outputId": "15968e58-b1d0-41ba-bde7-72f9a1a07eff"
      },
      "execution_count": null,
      "outputs": [
        {
          "output_type": "stream",
          "name": "stdout",
          "text": [
            "\n",
            "--- Final Evaluation on Hold-Out Test Set ---\n",
            "Accuracy: 0.8973214285714286\n",
            "\n",
            "Classification Report:\n",
            "               precision    recall  f1-score   support\n",
            "\n",
            "      BENIGN       0.90      0.90      0.90      1275\n",
            "   MALIGNANT       0.90      0.89      0.89      1189\n",
            "\n",
            "    accuracy                           0.90      2464\n",
            "   macro avg       0.90      0.90      0.90      2464\n",
            "weighted avg       0.90      0.90      0.90      2464\n",
            "\n"
          ]
        }
      ]
    },
    {
      "cell_type": "code",
      "source": [
        "# Confusion Matrix\n",
        "cm_final = confusion_matrix(y_test, y_pred)\n",
        "tn, fp, fn, tp = cm_final.ravel()\n",
        "print(f\"\\nTP: {tp}, TN: {tn}, FP: {fp}, FN: {fn}\")\n",
        "\n",
        "sns.heatmap(cm_final, annot=True, fmt='d', cmap='Reds',\n",
        "            xticklabels=['BENIGN', 'MALIGNANT'],\n",
        "            yticklabels=['BENIGN', 'MALIGNANT'])\n",
        "plt.xlabel('Predicted Label')\n",
        "plt.ylabel('True Label')\n",
        "plt.title('Confusion Matrix (Final Test Set)')\n",
        "plt.show()\n"
      ],
      "metadata": {
        "colab": {
          "base_uri": "https://localhost:8080/",
          "height": 507
        },
        "id": "ieraJJJx2DsQ",
        "outputId": "282e9e01-ab25-4b4e-d0c2-6846d88744c7"
      },
      "execution_count": null,
      "outputs": [
        {
          "output_type": "stream",
          "name": "stdout",
          "text": [
            "\n",
            "TP: 1059, TN: 1152, FP: 123, FN: 130\n"
          ]
        },
        {
          "output_type": "display_data",
          "data": {
            "text/plain": [
              "<Figure size 640x480 with 2 Axes>"
            ],
            "image/png": "[encoded data removed]"
          },
          "metadata": {}
        }
      ]
    },
    {
      "cell_type": "markdown",
      "metadata": {
        "id": "0fbfbf29"
      },
      "source": [
        "# Mass Case Description Analysis and SVM Classification\n",
        "\n",
        "This notebook analyzes the `mass_case_description_train_set_augmented_10k.csv` dataset and builds a Support Vector Machine (SVM) model to classify breast mass pathology as either benign or malignant.\n",
        "\n",
        "## Project Description\n",
        "\n",
        "The goal of this project is to preprocess and analyze a dataset containing information about breast masses and train a classification model to predict the likelihood of a mass being malignant based on its characteristics.\n",
        "\n",
        "## Dataset\n",
        "\n",
        "The dataset used in this project is `mass_case_description_train_set_augmented_10k.csv`. It contains various features related to breast masses, including breast density, image view, mass shape, mass margins, assessment, and pathology.\n",
        "\n",
        "## Analysis and Modeling Steps\n",
        "\n",
        "The notebook performs the following steps:\n",
        "\n",
        "1.  **Data Loading and Initial Inspection:**\n",
        "    -   Loads the dataset using pandas.\n",
        "    -   Displays the first few rows, data types, and checks for missing values.\n",
        "\n",
        "2.  **Data Cleaning and Preprocessing:**\n",
        "    -   Removes duplicate rows.\n",
        "    -   Renames the 'breast_density' column.\n",
        "    -   Fills missing values in 'mass shape' and 'mass margins' with \"Unknown\".\n",
        "    -   Encodes the 'pathology' column, merging 'BENIGN_WITHOUT_CALLBACK' into 'BENIGN' and mapping 'MALIGNANT' to 1 and 'BENIGN' to 0.\n",
        "    -   Drops columns not relevant for training the model (patient ID, abnormality ID, image file paths).\n",
        "\n",
        "3.  **Feature Engineering and Scaling:**\n",
        "    -   Separates features (X) and the target variable (y).\n",
        "    -   Applies one-hot encoding to categorical features in X.\n",
        "    -   Standardizes the features using StandardScaler.\n",
        "\n",
        "4.  **Model Training and Evaluation (Cross-Validation):**\n",
        "    -   Uses Stratified K-Fold cross-validation (with 5 splits) to evaluate the SVM model's performance.\n",
        "    -   Trains an SVM model with a radial basis function (rbf) kernel.\n",
        "    -   Reports the accuracy, true positives (TP), true negatives (TN), false positives (FP), and false negatives (FN) for each fold.\n",
        "    -   Calculates and prints the mean accuracy and standard deviation across all folds.\n",
        "\n",
        "5.  **Final Model Evaluation (Train/Test Split):**\n",
        "    -   Splits the data into a training set (80%) and a hold-out test set (20%) using `train_test_split` with stratification.\n",
        "    -   Standardizes the training and test sets separately.\n",
        "    -   Trains the final SVM model on the training data.\n",
        "    -   Evaluates the model on the hold-out test set.\n",
        "    -   Prints the accuracy and a detailed classification report (precision, recall, f1-score).\n",
        "\n",
        "6.  **Confusion Matrix Visualization:**\n",
        "    -   Generates and displays a confusion matrix for the final model's predictions on the test set.\n",
        "    -   Visualizes the confusion matrix using a heatmap.\n",
        "\n",
        "## Results\n",
        "\n",
        "The cross-validation and final test set evaluation show that the SVM model achieves a mean accuracy of approximately 89.5% in classifying breast mass pathology. The confusion matrix provides a detailed breakdown of the model's performance in terms of correctly and incorrectly classified instances.\n",
        "\n",
        "## How to Run the Notebook\n",
        "\n",
        "1.  Upload the `mass_case_description_train_set_augmented_10k.csv` file to your Colab environment.\n",
        "2.  Run each code cell sequentially.\n",
        "\n",
        "## Dependencies\n",
        "\n",
        "The following libraries are required to run this notebook:\n",
        "\n",
        "-   pandas\n",
        "-   numpy\n",
        "-   matplotlib\n",
        "-   seaborn\n",
        "-   sklearn"
      ]
    }
  ]
}